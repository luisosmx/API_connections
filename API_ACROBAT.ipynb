{
  "nbformat": 4,
  "nbformat_minor": 0,
  "metadata": {
    "colab": {
      "provenance": [],
      "authorship_tag": "ABX9TyOSnhTxxl3KbWiYO3+SvjnU",
      "include_colab_link": true
    },
    "kernelspec": {
      "name": "python3",
      "display_name": "Python 3"
    },
    "language_info": {
      "name": "python"
    }
  },
  "cells": [
    {
      "cell_type": "markdown",
      "metadata": {
        "id": "view-in-github",
        "colab_type": "text"
      },
      "source": [
        "<a href=\"https://colab.research.google.com/github/luisosmx/API_connections/blob/main/API_ACROBAT.ipynb\" target=\"_parent\"><img src=\"https://colab.research.google.com/assets/colab-badge.svg\" alt=\"Open In Colab\"/></a>"
      ]
    },
    {
      "cell_type": "markdown",
      "source": [
        "## Authorization Code"
      ],
      "metadata": {
        "id": "WMgrJpJuz-MG"
      }
    },
    {
      "cell_type": "code",
      "execution_count": 1,
      "metadata": {
        "colab": {
          "base_uri": "https://localhost:8080/"
        },
        "id": "hYJ5-eBvzvM0",
        "outputId": "b2a83a82-f9ce-463a-c542-a9d49f280784"
      },
      "outputs": [
        {
          "output_type": "stream",
          "name": "stdout",
          "text": [
            "Status code: 200\n",
            "Response URL: https://secure.na1.echosign.com/public/oauth/v2?redirect_uri=https%3A%2F%2Foauth.pstmn.io%2Fv1%2Fcallback&response_type=code&client_id=CBJCHBCAABAA5z5y6_YYaecwliRsbOJke0uGa4pet5Tr&scope=user_read%3Aaccount+user_write%3Aaccount+user_login%3Aaccount+agreement_read%3Aaccount+agreement_write%3Aaccount+agreement_send%3Aaccount+library_read%3Aaccount+library_write%3Aaccount\n"
          ]
        }
      ],
      "source": [
        "import requests\n",
        "\n",
        "url = \"https://secure.echosign.com/public/oauth/v2\"\n",
        "redirect_uri = \"https://oauth.pstmn.io/v1/callback\"\n",
        "client_id = \"\"\n",
        "scopes = [\n",
        "    \"user_read:account\",\n",
        "    \"user_write:account\",\n",
        "    \"user_login:account\",\n",
        "    \"agreement_read:account\",\n",
        "    \"agreement_write:account\",\n",
        "    \"agreement_send:account\",\n",
        "    \"library_read:account\",\n",
        "    \"library_write:account\"\n",
        "]\n",
        "\n",
        "parameters = {\n",
        "    \"redirect_uri\": redirect_uri,\n",
        "    \"response_type\": \"code\",\n",
        "    \"client_id\": client_id,\n",
        "    \"scope\": \" \".join(scopes)\n",
        "}\n",
        "\n",
        "response = requests.get(url, params=parameters)\n",
        "\n",
        "print(\"Status code:\", response.status_code)\n",
        "print(\"Response URL:\", response.url)\n",
        "\n",
        "\n",
        "\n"
      ]
    },
    {
      "cell_type": "markdown",
      "source": [
        "## Token request"
      ],
      "metadata": {
        "id": "-ZT7AjfOz6oU"
      }
    },
    {
      "cell_type": "code",
      "source": [
        "\n",
        "url = \"https://secure.na1.echosign.com/oauth/v2/token\"\n",
        "headers = {\n",
        "    \"Content-Type\": \"application/x-www-form-urlencoded\",\n",
        "    \"Cache-Control\": \"no-cache\"\n",
        "}\n",
        "data = {\n",
        "    \"grant_type\": \"authorization_code\",\n",
        "    \"code\": \"CBNCKBAAHBCAABAAV6TWT01-xgIok6eKkxjVTImL4tKo-Vkq\",\n",
        "    \"client_id\": client_id,\n",
        "    \"client_secret\": \"7x2LZ8kCABcqdUTPgSFR5o01cVF1ED_k\",\n",
        "    \"redirect_uri\": redirect_uri\n",
        "}\n",
        "\n",
        "response = requests.post(url, headers=headers, data=data)\n",
        "\n",
        "if response.status_code == 200:\n",
        "    token_data = response.json()\n",
        "    access_token = token_data.get('access_token')\n",
        "    print(\"Access Token:\", access_token)\n",
        "else:\n",
        "    print(\"Failed to obtain access token. Status code:\", response.status_code)\n",
        "    print(\"Response:\", response.text)\n"
      ],
      "metadata": {
        "id": "RICx08LcN8ZS"
      },
      "execution_count": null,
      "outputs": []
    },
    {
      "cell_type": "code",
      "source": [],
      "metadata": {
        "id": "tgF6Z7TFSYQD"
      },
      "execution_count": null,
      "outputs": []
    }
  ]
}