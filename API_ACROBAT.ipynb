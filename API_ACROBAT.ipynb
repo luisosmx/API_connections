{
  "nbformat": 4,
  "nbformat_minor": 0,
  "metadata": {
    "colab": {
      "provenance": [],
      "authorship_tag": "ABX9TyNyv6AXKjnUMrRmVtpo25c0",
      "include_colab_link": true
    },
    "kernelspec": {
      "name": "python3",
      "display_name": "Python 3"
    },
    "language_info": {
      "name": "python"
    }
  },
  "cells": [
    {
      "cell_type": "markdown",
      "metadata": {
        "id": "view-in-github",
        "colab_type": "text"
      },
      "source": [
        "<a href=\"https://colab.research.google.com/github/luisosmx/API_connections/blob/main/API_ACROBAT.ipynb\" target=\"_parent\"><img src=\"https://colab.research.google.com/assets/colab-badge.svg\" alt=\"Open In Colab\"/></a>"
      ]
    },
    {
      "cell_type": "code",
      "execution_count": 1,
      "metadata": {
        "colab": {
          "base_uri": "https://localhost:8080/"
        },
        "id": "hYJ5-eBvzvM0",
        "outputId": "c75fb2af-eb26-441d-9b3d-9de1ea16e5e9"
      },
      "outputs": [
        {
          "output_type": "stream",
          "name": "stdout",
          "text": [
            "https://secure.echosign.com/public/userMessage?token=5C2F42BE72F7DD4069339F2E1344FD5D4E351F04DE5CD6758419DA4325D7C3\n"
          ]
        }
      ],
      "source": [
        "import requests\n",
        "\n",
        "oauth_url = \"https://secure.echosign.com/public/oauth\"\n",
        "\n",
        "params = {\n",
        "    \"redirect_uri\": 'https://DeltaTest.com/oauth_callback',\n",
        "    \"response_type\": \"code\",\n",
        "    \"client_id\": '',\n",
        "    \"scope\": \"user_read:account+user_write:account+user_login:account+agreement_read:account+agreement_write:account+agreement_send:account+widget_read:account+widget_write:account+library_read:account+library_write:account+workflow_read:account+workflow_write:account\"\n",
        "}\n",
        "\n",
        "response = requests.get(oauth_url, params=params)\n",
        "\n",
        "print( response.url)\n"
      ]
    },
    {
      "cell_type": "code",
      "source": [],
      "metadata": {
        "id": "RICx08LcN8ZS"
      },
      "execution_count": null,
      "outputs": []
    }
  ]
}