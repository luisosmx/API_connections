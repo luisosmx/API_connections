{
  "nbformat": 4,
  "nbformat_minor": 0,
  "metadata": {
    "colab": {
      "provenance": [],
      "authorship_tag": "ABX9TyO0HMQZfGAIKdg7rbUlRjMy",
      "include_colab_link": true
    },
    "kernelspec": {
      "name": "python3",
      "display_name": "Python 3"
    },
    "language_info": {
      "name": "python"
    }
  },
  "cells": [
    {
      "cell_type": "markdown",
      "metadata": {
        "id": "view-in-github",
        "colab_type": "text"
      },
      "source": [
        "<a href=\"https://colab.research.google.com/github/luisosmx/API_connections/blob/main/API_ACROBAT.ipynb\" target=\"_parent\"><img src=\"https://colab.research.google.com/assets/colab-badge.svg\" alt=\"Open In Colab\"/></a>"
      ]
    },
    {
      "cell_type": "code",
      "execution_count": 1,
      "metadata": {
        "colab": {
          "base_uri": "https://localhost:8080/"
        },
        "id": "hYJ5-eBvzvM0",
        "outputId": "b2a83a82-f9ce-463a-c542-a9d49f280784"
      },
      "outputs": [
        {
          "output_type": "stream",
          "name": "stdout",
          "text": [
            "Status code: 200\n",
            "Response URL: https://secure.na1.echosign.com/public/oauth/v2?redirect_uri=https%3A%2F%2Foauth.pstmn.io%2Fv1%2Fcallback&response_type=code&client_id=CBJCHBCAABAA5z5y6_YYaecwliRsbOJke0uGa4pet5Tr&scope=user_read%3Aaccount+user_write%3Aaccount+user_login%3Aaccount+agreement_read%3Aaccount+agreement_write%3Aaccount+agreement_send%3Aaccount+library_read%3Aaccount+library_write%3Aaccount\n"
          ]
        }
      ],
      "source": [
        "import requests\n",
        "\n",
        "url = \"https://secure.echosign.com/public/oauth/v2\"\n",
        "redirect_uri = \"https://oauth.pstmn.io/v1/callback\"\n",
        "client_id = \"\"\n",
        "scopes = [\n",
        "    \"user_read:account\",\n",
        "    \"user_write:account\",\n",
        "    \"user_login:account\",\n",
        "    \"agreement_read:account\",\n",
        "    \"agreement_write:account\",\n",
        "    \"agreement_send:account\",\n",
        "    \"library_read:account\",\n",
        "    \"library_write:account\"\n",
        "]\n",
        "\n",
        "parameters = {\n",
        "    \"redirect_uri\": redirect_uri,\n",
        "    \"response_type\": \"code\",\n",
        "    \"client_id\": client_id,\n",
        "    \"scope\": \" \".join(scopes)\n",
        "}\n",
        "\n",
        "response = requests.get(url, params=parameters)\n",
        "\n",
        "print(\"Status code:\", response.status_code)\n",
        "print(\"Response URL:\", response.url)\n",
        "\n",
        "\n",
        "\n"
      ]
    },
    {
      "cell_type": "code",
      "source": [
        "import requests\n",
        "\n",
        "# Configura las credenciales de autenticación\n",
        "client_id = 'CBJCHBCAABAAnCmyw0Ko9POVpVCxMJnDPM_hvG9O0vB5'\n",
        "client_secret = 'LgLmlC83KXAufmGajmw22Keh10kMUMbm'\n",
        "access_token = None\n",
        "\n",
        "# Obtiene un token de acceso usando las credenciales de OAuth\n",
        "def get_access_token():\n",
        "    global access_token\n",
        "    url = 'https://ims-na1.adobelogin.com/ims/token/v1'\n",
        "    headers = {\n",
        "        'Content-Type': 'application/x-www-form-urlencoded',\n",
        "    }\n",
        "    data = {\n",
        "        'grant_type': 'client_credentials',\n",
        "        'client_id': client_id,\n",
        "        'client_secret': client_secret,\n",
        "    }\n",
        "    response = requests.post(url, headers=headers, data=data)\n",
        "    response_json = response.json()\n",
        "    print(response_json)\n",
        "    access_token = response_json['access_token']\n",
        "\n",
        "# Función para cargar un documento\n",
        "def upload_document(file_path):\n",
        "    if access_token is None:\n",
        "        get_access_token()\n",
        "    url = 'https://api.acrobat.com/apiservices/v4/upload'\n",
        "    headers = {\n",
        "        'Authorization': f'Bearer {access_token}',\n",
        "    }\n",
        "    files = {'file': open(file_path, 'rb')}\n",
        "    response = requests.post(url, headers=headers, files=files)\n",
        "    response_json = response.json()\n",
        "    return response_json['id']\n",
        "\n",
        "# Función para enviar un documento\n",
        "def send_document(document_id, recipient_email):\n",
        "    if access_token is None:\n",
        "        get_access_token()\n",
        "    url = 'https://api.acrobat.com/apiservices/v4/sendAgreement'\n",
        "    headers = {\n",
        "        'Authorization': f'Bearer {access_token}',\n",
        "        'Content-Type': 'application/json',\n",
        "    }\n",
        "    data = {\n",
        "        'documentId': document_id,\n",
        "        'participantSetsInfo': [\n",
        "            {\n",
        "                'memberInfos': [\n",
        "                    {\n",
        "                        'email': recipient_email,\n",
        "                    }\n",
        "                ],\n",
        "                'order': 1,\n",
        "            }\n",
        "        ]\n",
        "    }\n",
        "    response = requests.post(url, headers=headers, json=data)\n",
        "    response_json = response.json()\n",
        "    return response_json\n",
        "\n",
        "# Ejemplo de uso\n",
        "if __name__ == '__main__':\n",
        "    document_id = upload_document('/content/Guia-Corredor-DEN24.pdf')\n",
        "    recipient_email = 'luis.osmx16@gmail.com'\n",
        "    response = send_document(document_id, recipient_email)\n",
        "    print(response)\n"
      ],
      "metadata": {
        "id": "RICx08LcN8ZS",
        "colab": {
          "base_uri": "https://localhost:8080/",
          "height": 373
        },
        "outputId": "a391d72e-d097-48e1-e2b6-1c5daae1dec4"
      },
      "execution_count": null,
      "outputs": [
        {
          "output_type": "stream",
          "name": "stdout",
          "text": [
            "{'error': 'invalid_client', 'error_description': 'invalid client_id parameter'}\n"
          ]
        },
        {
          "output_type": "error",
          "ename": "KeyError",
          "evalue": "'access_token'",
          "traceback": [
            "\u001b[0;31m---------------------------------------------------------------------------\u001b[0m",
            "\u001b[0;31mKeyError\u001b[0m                                  Traceback (most recent call last)",
            "\u001b[0;32m<ipython-input-2-3662226966aa>\u001b[0m in \u001b[0;36m<cell line: 65>\u001b[0;34m()\u001b[0m\n\u001b[1;32m     64\u001b[0m \u001b[0;31m# Ejemplo de uso\u001b[0m\u001b[0;34m\u001b[0m\u001b[0;34m\u001b[0m\u001b[0m\n\u001b[1;32m     65\u001b[0m \u001b[0;32mif\u001b[0m \u001b[0m__name__\u001b[0m \u001b[0;34m==\u001b[0m \u001b[0;34m'__main__'\u001b[0m\u001b[0;34m:\u001b[0m\u001b[0;34m\u001b[0m\u001b[0;34m\u001b[0m\u001b[0m\n\u001b[0;32m---> 66\u001b[0;31m     \u001b[0mdocument_id\u001b[0m \u001b[0;34m=\u001b[0m \u001b[0mupload_document\u001b[0m\u001b[0;34m(\u001b[0m\u001b[0;34m'/content/Guia-Corredor-DEN24.pdf'\u001b[0m\u001b[0;34m)\u001b[0m\u001b[0;34m\u001b[0m\u001b[0;34m\u001b[0m\u001b[0m\n\u001b[0m\u001b[1;32m     67\u001b[0m     \u001b[0mrecipient_email\u001b[0m \u001b[0;34m=\u001b[0m \u001b[0;34m'luis.osmx16@gmail.com'\u001b[0m\u001b[0;34m\u001b[0m\u001b[0;34m\u001b[0m\u001b[0m\n\u001b[1;32m     68\u001b[0m     \u001b[0mresponse\u001b[0m \u001b[0;34m=\u001b[0m \u001b[0msend_document\u001b[0m\u001b[0;34m(\u001b[0m\u001b[0mdocument_id\u001b[0m\u001b[0;34m,\u001b[0m \u001b[0mrecipient_email\u001b[0m\u001b[0;34m)\u001b[0m\u001b[0;34m\u001b[0m\u001b[0;34m\u001b[0m\u001b[0m\n",
            "\u001b[0;32m<ipython-input-2-3662226966aa>\u001b[0m in \u001b[0;36mupload_document\u001b[0;34m(file_path)\u001b[0m\n\u001b[1;32m     26\u001b[0m \u001b[0;32mdef\u001b[0m \u001b[0mupload_document\u001b[0m\u001b[0;34m(\u001b[0m\u001b[0mfile_path\u001b[0m\u001b[0;34m)\u001b[0m\u001b[0;34m:\u001b[0m\u001b[0;34m\u001b[0m\u001b[0;34m\u001b[0m\u001b[0m\n\u001b[1;32m     27\u001b[0m     \u001b[0;32mif\u001b[0m \u001b[0maccess_token\u001b[0m \u001b[0;32mis\u001b[0m \u001b[0;32mNone\u001b[0m\u001b[0;34m:\u001b[0m\u001b[0;34m\u001b[0m\u001b[0;34m\u001b[0m\u001b[0m\n\u001b[0;32m---> 28\u001b[0;31m         \u001b[0mget_access_token\u001b[0m\u001b[0;34m(\u001b[0m\u001b[0;34m)\u001b[0m\u001b[0;34m\u001b[0m\u001b[0;34m\u001b[0m\u001b[0m\n\u001b[0m\u001b[1;32m     29\u001b[0m     \u001b[0murl\u001b[0m \u001b[0;34m=\u001b[0m \u001b[0;34m'https://api.acrobat.com/apiservices/v4/upload'\u001b[0m\u001b[0;34m\u001b[0m\u001b[0;34m\u001b[0m\u001b[0m\n\u001b[1;32m     30\u001b[0m     headers = {\n",
            "\u001b[0;32m<ipython-input-2-3662226966aa>\u001b[0m in \u001b[0;36mget_access_token\u001b[0;34m()\u001b[0m\n\u001b[1;32m     21\u001b[0m     \u001b[0mresponse_json\u001b[0m \u001b[0;34m=\u001b[0m \u001b[0mresponse\u001b[0m\u001b[0;34m.\u001b[0m\u001b[0mjson\u001b[0m\u001b[0;34m(\u001b[0m\u001b[0;34m)\u001b[0m\u001b[0;34m\u001b[0m\u001b[0;34m\u001b[0m\u001b[0m\n\u001b[1;32m     22\u001b[0m     \u001b[0mprint\u001b[0m\u001b[0;34m(\u001b[0m\u001b[0mresponse_json\u001b[0m\u001b[0;34m)\u001b[0m\u001b[0;34m\u001b[0m\u001b[0;34m\u001b[0m\u001b[0m\n\u001b[0;32m---> 23\u001b[0;31m     \u001b[0maccess_token\u001b[0m \u001b[0;34m=\u001b[0m \u001b[0mresponse_json\u001b[0m\u001b[0;34m[\u001b[0m\u001b[0;34m'access_token'\u001b[0m\u001b[0;34m]\u001b[0m\u001b[0;34m\u001b[0m\u001b[0;34m\u001b[0m\u001b[0m\n\u001b[0m\u001b[1;32m     24\u001b[0m \u001b[0;34m\u001b[0m\u001b[0m\n\u001b[1;32m     25\u001b[0m \u001b[0;31m# Función para cargar un documento\u001b[0m\u001b[0;34m\u001b[0m\u001b[0;34m\u001b[0m\u001b[0m\n",
            "\u001b[0;31mKeyError\u001b[0m: 'access_token'"
          ]
        }
      ]
    },
    {
      "cell_type": "code",
      "source": [],
      "metadata": {
        "id": "tgF6Z7TFSYQD"
      },
      "execution_count": null,
      "outputs": []
    }
  ]
}