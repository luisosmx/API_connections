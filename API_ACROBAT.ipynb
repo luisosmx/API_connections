{
  "nbformat": 4,
  "nbformat_minor": 0,
  "metadata": {
    "colab": {
      "provenance": [],
      "authorship_tag": "ABX9TyOGg+1qjRvYKcGjJOsHMrgr",
      "include_colab_link": true
    },
    "kernelspec": {
      "name": "python3",
      "display_name": "Python 3"
    },
    "language_info": {
      "name": "python"
    }
  },
  "cells": [
    {
      "cell_type": "markdown",
      "metadata": {
        "id": "view-in-github",
        "colab_type": "text"
      },
      "source": [
        "<a href=\"https://colab.research.google.com/github/luisosmx/API_connections/blob/main/API_ACROBAT.ipynb\" target=\"_parent\"><img src=\"https://colab.research.google.com/assets/colab-badge.svg\" alt=\"Open In Colab\"/></a>"
      ]
    },
    {
      "cell_type": "code",
      "execution_count": null,
      "metadata": {
        "id": "hYJ5-eBvzvM0"
      },
      "outputs": [],
      "source": [
        "import requests\n",
        "\n",
        "client_id = ''\n",
        "client_secret = ''\n",
        "base_url = 'https://'\n",
        "\n",
        "def get_access_token():\n",
        "    url = f'{base_url}/oauth/token'\n",
        "    headers = {'Content-Type': 'application/x-www-form-urlencoded'}\n",
        "    data = {\n",
        "        'client_id': client_id,\n",
        "        'client_secret': client_secret,\n",
        "        'grant_type': 'client_credentials'\n",
        "    }\n",
        "    response = requests.post(url, headers=headers, data=data)\n",
        "    return response.json()['access_token']\n",
        "\n",
        "access_token = get_access_token()\n",
        "\n",
        "def get_user_info():\n",
        "    url = f'{base_url}/api/rest/v6/users'\n",
        "    headers = {\n",
        "        'Authorization': f'Bearer {access_token}',\n",
        "        'Content-Type': 'application/json'\n",
        "    }\n",
        "    response = requests.get(url, headers=headers)\n",
        "    return response.json()\n",
        "\n"
      ]
    }
  ]
}