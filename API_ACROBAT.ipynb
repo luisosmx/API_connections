{
  "nbformat": 4,
  "nbformat_minor": 0,
  "metadata": {
    "colab": {
      "provenance": [],
      "authorship_tag": "ABX9TyNxQOp3wHwm059g2r5RcgLL",
      "include_colab_link": true
    },
    "kernelspec": {
      "name": "python3",
      "display_name": "Python 3"
    },
    "language_info": {
      "name": "python"
    }
  },
  "cells": [
    {
      "cell_type": "markdown",
      "metadata": {
        "id": "view-in-github",
        "colab_type": "text"
      },
      "source": [
        "<a href=\"https://colab.research.google.com/github/luisosmx/API_connections/blob/main/API_ACROBAT.ipynb\" target=\"_parent\"><img src=\"https://colab.research.google.com/assets/colab-badge.svg\" alt=\"Open In Colab\"/></a>"
      ]
    },
    {
      "cell_type": "code",
      "source": [
        "import requests\n",
        "import json\n",
        "\n",
        "code = ''\n",
        "client_id = ''\n",
        "client_secret = ''\n",
        "redirect_uri = \"https://oauth.pstmn.io/v1/callback\"\n",
        "\n",
        "url = \"https://secure.na1.echosign.com/oauth/v2/token\"\n",
        "\n",
        "headers = {\n",
        "    \"Content-Type\": \"application/x-www-form-urlencoded\",\n",
        "}\n",
        "data = {\n",
        "    \"grant_type\": \"authorization_code\",\n",
        "    \"code\": code,\n",
        "    \"client_id\": client_id,\n",
        "    \"client_secret\": client_secret,\n",
        "    \"redirect_uri\": redirect_uri\n",
        "}\n",
        "\n",
        "response = requests.post(url, headers=headers, data=data)\n",
        "response_json = response.json()\n",
        "\n",
        "if 'refresh_token' in response_json:\n",
        "    refresh_token = response_json['refresh_token']\n",
        "    print(\"Refresh Token:\", refresh_token)\n",
        "else:\n",
        "    print(\"Error al obtener el token\")\n",
        "\n"
      ],
      "metadata": {
        "id": "aGaSz2ULMLKE"
      },
      "execution_count": null,
      "outputs": []
    },
    {
      "cell_type": "markdown",
      "source": [
        "## Authorization Code"
      ],
      "metadata": {
        "id": "WMgrJpJuz-MG"
      }
    },
    {
      "cell_type": "code",
      "execution_count": null,
      "metadata": {
        "colab": {
          "base_uri": "https://localhost:8080/"
        },
        "id": "hYJ5-eBvzvM0",
        "outputId": "b2a83a82-f9ce-463a-c542-a9d49f280784"
      },
      "outputs": [
        {
          "output_type": "stream",
          "name": "stdout",
          "text": [
            "Status code: 200\n",
            "Response URL: https://secure.na1.echosign.com/public/oauth/v2?redirect_uri=https%3A%2F%2Foauth.pstmn.io%2Fv1%2Fcallback&response_type=code&client_id=CBJCHBCAABAA5z5y6_YYaecwliRsbOJke0uGa4pet5Tr&scope=user_read%3Aaccount+user_write%3Aaccount+user_login%3Aaccount+agreement_read%3Aaccount+agreement_write%3Aaccount+agreement_send%3Aaccount+library_read%3Aaccount+library_write%3Aaccount\n"
          ]
        }
      ],
      "source": [
        "import requests\n",
        "\n",
        "url = \"https://secure.echosign.com/public/oauth/v2\"\n",
        "redirect_uri = \"https://oauth.pstmn.io/v1/callback\"\n",
        "client_id = \"\"\n",
        "scopes = [\n",
        "    \"user_read:account\",\n",
        "    \"user_write:account\",\n",
        "    \"user_login:account\",\n",
        "    \"agreement_read:account\",\n",
        "    \"agreement_write:account\",\n",
        "    \"agreement_send:account\",\n",
        "    \"library_read:account\",\n",
        "    \"library_write:account\"\n",
        "]\n",
        "\n",
        "parameters = {\n",
        "    \"redirect_uri\": redirect_uri,\n",
        "    \"response_type\": \"code\",\n",
        "    \"client_id\": client_id,\n",
        "    \"scope\": \" \".join(scopes)\n",
        "}\n",
        "\n",
        "response = requests.get(url, params=parameters)\n",
        "\n",
        "print(\"Status code:\", response.status_code)\n",
        "print(\"Response URL:\", response.url)\n",
        "\n",
        "\n",
        "\n"
      ]
    },
    {
      "cell_type": "markdown",
      "source": [
        "## Token request"
      ],
      "metadata": {
        "id": "-ZT7AjfOz6oU"
      }
    },
    {
      "cell_type": "code",
      "source": [
        "\n",
        "url = \"https://secure.na1.echosign.com/oauth/v2/token\"\n",
        "headers = {\n",
        "    \"Content-Type\": \"application/x-www-form-urlencoded\",\n",
        "    \"Cache-Control\": \"no-cache\"\n",
        "}\n",
        "data = {\n",
        "    \"grant_type\": \"authorization_code\",\n",
        "    \"code\": \"CBNCKBAAHBCAABAAV6TWT01-xgIok6eKkxjVTImL4tKo-Vkq\",\n",
        "    \"client_id\": client_id,\n",
        "    \"client_secret\": \"7x2LZ8kCABcqdUTPgSFR5o01cVF1ED_k\",\n",
        "    \"redirect_uri\": redirect_uri\n",
        "}\n",
        "\n",
        "response = requests.post(url, headers=headers, data=data)\n",
        "\n",
        "if response.status_code == 200:\n",
        "    token_data = response.json()\n",
        "    access_token = token_data.get('access_token')\n",
        "    print(\"Access Token:\", access_token)\n",
        "else:\n",
        "    print(\"Failed to obtain access token. Status code:\", response.status_code)\n",
        "    print(\"Response:\", response.text)\n"
      ],
      "metadata": {
        "id": "RICx08LcN8ZS"
      },
      "execution_count": null,
      "outputs": []
    },
    {
      "cell_type": "markdown",
      "source": [
        "## Retrieves library documents for a user"
      ],
      "metadata": {
        "id": "vf5vLbKzyLJw"
      }
    },
    {
      "cell_type": "code",
      "source": [
        "import requests\n",
        "\n",
        "url_documentId = \"https://api.na4.adobesign.com/api/rest/v6/libraryDocuments\"\n",
        "refresh_token = '3AAABLblqZhB46oupcC3u8M2gBzWe-mR6DwPtNQmtazA-yEToRyPCl18txtFqtjTbRRgfmJwQwfs*'\n",
        "headers = {\n",
        "    \"Authorization\": f\"Bearer {refresh_token}\"\n",
        "}\n",
        "\n",
        "response = requests.get(url_documentId, headers=headers)\n",
        "\n",
        "if response.status_code == 200:\n",
        "    print(\"Successful request\")\n",
        "    data = response.json()\n",
        "    print(data)\n",
        "else:\n",
        "\n",
        "    print(f\"Error: {response.status_code} - {response.text}\")"
      ],
      "metadata": {
        "id": "tgF6Z7TFSYQD",
        "colab": {
          "base_uri": "https://localhost:8080/"
        },
        "outputId": "2365e936-dd7e-4147-fd67-6bbd353fd542"
      },
      "execution_count": null,
      "outputs": [
        {
          "output_type": "stream",
          "name": "stdout",
          "text": [
            "Error: 401 - {\"code\":\"INVALID_ACCESS_TOKEN\",\"message\":\"Access token provided is invalid or has expired\"}\n"
          ]
        }
      ]
    },
    {
      "cell_type": "code",
      "source": [
        "\n",
        "url = 'https://api.na1.adobesign.com/oauth/v2/refresh'\n",
        "\n",
        "params = {\n",
        "    'refresh_token': '3AAABLblqZhB46oupcC3u8M2gBzWe-mR6DwPtNQmtazA-yEToRyPCl18txtFqtjTbRRgfmJwQwfs*',\n",
        "    'client_id': 'CBJCHBCAABAA5z5y6_YYaecwliRsbOJke0uGa4pet5Tr',\n",
        "    'client_secret': '7x2LZ8kCABcqdUTPgSFR5o01cVF1ED_k',\n",
        "    'grant_type': 'refresh_token'\n",
        "}\n",
        "\n",
        "response = requests.post(url, data=params)\n",
        "\n",
        "print(response.status_code)\n",
        "print(response.json())"
      ],
      "metadata": {
        "colab": {
          "base_uri": "https://localhost:8080/"
        },
        "id": "d_Wpt3_QhZ0x",
        "outputId": "af9174f1-839a-4c3b-86b5-85caa8c091ad"
      },
      "execution_count": null,
      "outputs": [
        {
          "output_type": "stream",
          "name": "stdout",
          "text": [
            "200\n",
            "{'access_token': '3AAABLblqZhC5y-YHkBTPXZMHI8g7xXEIV8KRS7a6rHYJVl1Yppq9iWtifvxGkS0DxETKfvnQ7eujtfRBrPy--AuYkTxlkJ5c', 'token_type': 'Bearer', 'expires_in': 3600}\n"
          ]
        }
      ]
    },
    {
      "cell_type": "markdown",
      "source": [
        "## Send agreement"
      ],
      "metadata": {
        "id": "f0AIMqzYzH_7"
      }
    },
    {
      "cell_type": "code",
      "source": [
        "\n",
        "url_post = \"https://api.na4.adobesign.com/api/rest/v6/agreements\"\n",
        "libraryDocumentId = 'CBJCHBCAABAAtiJvomnfwQt_8LJWfy1-q4-sIR1bTOKY'\n",
        "email = \"luis.osmx16@gmail.com\"\n",
        "\n",
        "headers = {\n",
        "    \"Authorization\": f\"Bearer {access_token}\",\n",
        "    \"Content-Type\": \"application/json\"\n",
        "}\n",
        "\n",
        "json_data = {\n",
        "    \"fileInfos\": [{\n",
        "         \"libraryDocumentId\": libraryDocumentId\n",
        "    }],\n",
        "    \"name\": \"MyTestAgreement\",\n",
        "    \"participantSetsInfo\": [{\n",
        "        \"memberInfos\": [{\n",
        "            \"email\": email\n",
        "        }],\n",
        "        \"order\": 1,\n",
        "        \"role\": \"SIGNER\"\n",
        "    }],\n",
        "    \"signatureType\": \"ESIGN\",\n",
        "    \"state\": \"IN_PROCESS\"\n",
        "}\n",
        "\n",
        "response = requests.post(url_post, headers=headers, json=json_data)\n",
        "\n",
        "if response.status_code == 201:\n",
        "    print(\"Successful request\")\n",
        "    data = response.json()\n",
        "    print(data)\n",
        "else:\n",
        "    print(f\"Error: {response.status_code} - {response.text}\")\n"
      ],
      "metadata": {
        "id": "JOgG25lTzJYF"
      },
      "execution_count": null,
      "outputs": []
    },
    {
      "cell_type": "markdown",
      "source": [
        "## Status of an agreement"
      ],
      "metadata": {
        "id": "Xsn14KDorMX5"
      }
    },
    {
      "cell_type": "code",
      "source": [
        "agreement_id = \"CBJCHBCAABAATW_vUNo1daypYcYSIu2UGfQtnaW1-On8\"\n",
        "\n",
        "\n",
        "url_status = f'https://api.na4.adobesign.com:443/api/rest/v6/agreements/{agreement_id}'\n",
        "params = {\n",
        "    \"agreementId\": agreement_id\n",
        "}\n",
        "\n",
        "headers = {\n",
        "    \"Authorization\": f\"Bearer {access_token}\"\n",
        "}\n",
        "\n",
        "response = requests.get(url_status, headers=headers)\n",
        "\n",
        "if response.status_code == 200:\n",
        "    print(\"Successful request\")\n",
        "    data = response.json()\n",
        "    print(data)\n",
        "else:\n",
        "    print(f\"Error: {response.status_code} - {response.text}\")\n"
      ],
      "metadata": {
        "id": "oGoT9weVrLGD"
      },
      "execution_count": null,
      "outputs": []
    },
    {
      "cell_type": "markdown",
      "source": [
        "## Creates a reminder"
      ],
      "metadata": {
        "id": "RXzokfst57jI"
      }
    },
    {
      "cell_type": "code",
      "source": [
        "url_reminder = f'https://api.na4.adobesign.com:443/api/rest/v6/agreements/{agreement_id}/reminders'\n",
        "recipientParticipantIds = 'CBJCHBCAABAAQ60d30bBfvCySUyJc7PUf2x2LEYN1oXp'\n",
        "headers = {\n",
        "    \"Authorization\": f\"Bearer {access_token}\"\n",
        "}\n",
        "\n",
        "json_data = {\n",
        "  \"recipientParticipantIds\": [\n",
        "    recipientParticipantIds\n",
        "  ],\n",
        "  \"status\": \"ACTIVE\"\n",
        "}\n",
        "\n",
        "response = requests.post(url_reminder, headers=headers,  json=json_data)\n",
        "\n",
        "if response.status_code == 201:\n",
        "    print(\"Successful request\")\n",
        "    data = response.json()\n",
        "    print(data)\n",
        "else:\n",
        "    print(f\"Error: {response.status_code} - {response.text}\")"
      ],
      "metadata": {
        "id": "vBExUbVf59Uu"
      },
      "execution_count": null,
      "outputs": []
    },
    {
      "cell_type": "markdown",
      "source": [
        "## Retrieves the file stream\n"
      ],
      "metadata": {
        "id": "ASxFHVUmzAEw"
      }
    },
    {
      "cell_type": "code",
      "source": [
        "# Retrieves the file stream\n",
        "\n",
        "documentId = '3AAABLblqZhCiMfhf3neEK7iUYR1V827NzwSwUElGI57v74Lk9TBAs6M3kh0SAzqJu-nUj17BecRROLuhTlJf6HxJZUklRC7p'\n",
        "\n",
        "url_document_retrives = f'https://api.na4.adobesign.com:443/api/rest/v6/agreements/{agreement_id}/documents/{documentId}'\n",
        "\n",
        "headers = {\n",
        "    \"Authorization\": f\"Bearer {access_token}\"\n",
        "}\n",
        "\n",
        "response = requests.get(url_document_retrives, headers=headers)\n",
        "\n",
        "if response.status_code == 200:\n",
        "    print(\"Successful request\")\n",
        "    with open(\"Document.pdf\", \"wb\") as f:\n",
        "        f.write(response.content)\n",
        "    print(\"Document downloaded successfully\")\n",
        "else:\n",
        "    print(f\"Error: {response.status_code} - {response.text}\")\n"
      ],
      "metadata": {
        "id": "PnQnUVSwy87I"
      },
      "execution_count": null,
      "outputs": []
    },
    {
      "cell_type": "markdown",
      "source": [
        "## Class Adobe Acrobat API"
      ],
      "metadata": {
        "id": "YscPDAn9Wfhp"
      }
    },
    {
      "cell_type": "code",
      "source": [
        "import requests\n",
        "\n",
        "class AdobeAcrobatAPI:\n",
        "    def __init__(self, client_id, client_secret, redirect_uri, scopes):\n",
        "        self.client_id = client_id\n",
        "        self.client_secret = client_secret\n",
        "        self.redirect_uri = redirect_uri\n",
        "        self.scopes = scopes\n",
        "        self.access_token = None\n",
        "\n",
        "    def get_authorization_code(self):\n",
        "        url = \"https://secure.echosign.com/public/oauth/v2\"\n",
        "\n",
        "        parameters = {\n",
        "            \"redirect_uri\": self.redirect_uri,\n",
        "            \"response_type\": \"code\",\n",
        "            \"client_id\": self.client_id,\n",
        "            \"scope\": \" \".join(self.scopes)\n",
        "        }\n",
        "\n",
        "        response = requests.get(url, params=parameters)\n",
        "\n",
        "        if response.status_code == 200:\n",
        "            return response.url\n",
        "        else:\n",
        "            print(\"Failed to obtain authorization code.\")\n",
        "            return None\n",
        "\n",
        "    def get_access_token(self, code):\n",
        "        url = \"https://secure.na1.echosign.com/oauth/v2/token\"\n",
        "\n",
        "        headers = {\n",
        "            \"Content-Type\": \"application/x-www-form-urlencoded\",\n",
        "            \"Cache-Control\": \"no-cache\"\n",
        "        }\n",
        "        data = {\n",
        "            \"grant_type\": \"authorization_code\",\n",
        "            \"code\": code,\n",
        "            \"client_id\": self.client_id,\n",
        "            \"client_secret\": self.client_secret,\n",
        "            \"redirect_uri\": self.redirect_uri\n",
        "        }\n",
        "\n",
        "        response = requests.post(url, headers=headers, data=data)\n",
        "\n",
        "        if response.status_code == 200:\n",
        "            token_data = response.json()\n",
        "            self.access_token = token_data.get('access_token')\n",
        "            return self.access_token\n",
        "        else:\n",
        "            print(\"Failed to obtain access token.\", response.status_code)\n",
        "            print(\"Response:\", response.text)\n",
        "            return None\n",
        "\n",
        "    def retrieve_library_documents(self):\n",
        "        url_documentId = \"https://api.na4.adobesign.com/api/rest/v6/libraryDocuments\"\n",
        "\n",
        "        headers = {\n",
        "            \"Authorization\": f\"Bearer {self.access_token}\"\n",
        "        }\n",
        "\n",
        "        response = requests.get(url_documentId, headers=headers)\n",
        "\n",
        "        if response.status_code == 200:\n",
        "            print(\"Successful request\")\n",
        "            data = response.json()\n",
        "            document_list = data.get('libraryDocumentList', [])\n",
        "            return document_list\n",
        "        else:\n",
        "            print(f\"Error: {response.status_code} - {response.text}\")\n",
        "            return None\n",
        "\n",
        "    def send_agreement(self, library_document_id, email, name_document):\n",
        "        url_post = \"https://api.na4.adobesign.com/api/rest/v6/agreements\"\n",
        "\n",
        "        headers = {\n",
        "            \"Authorization\": f\"Bearer {self.access_token}\",\n",
        "            \"Content-Type\": \"application/json\"\n",
        "        }\n",
        "\n",
        "        json_data = {\n",
        "            \"fileInfos\": [{\n",
        "                 \"libraryDocumentId\": library_document_id\n",
        "            }],\n",
        "            \"name\": name_document,\n",
        "            \"participantSetsInfo\": [{\n",
        "                \"memberInfos\": [{\n",
        "                    \"email\": email\n",
        "                }],\n",
        "                \"order\": 1,\n",
        "                \"role\": \"SIGNER\"\n",
        "            }],\n",
        "            \"signatureType\": \"ESIGN\",\n",
        "            \"state\": \"IN_PROCESS\"\n",
        "        }\n",
        "\n",
        "        response = requests.post(url_post, headers=headers, json=json_data)\n",
        "\n",
        "        if response.status_code == 201:\n",
        "            data = response.json()\n",
        "            agreement_id = data.get('id')\n",
        "            return f\"agreementId = {agreement_id}\"\n",
        "        else:\n",
        "            print(f\"Error: {response.status_code} - {response.text}\")\n",
        "            return None\n",
        "\n",
        "    def status_agreement(self, agreement_id):\n",
        "        url_status = f'https://api.na4.adobesign.com:443/api/rest/v6/agreements/{agreement_id}'\n",
        "\n",
        "        headers = {\n",
        "            \"Authorization\": f\"Bearer {self.access_token}\"\n",
        "        }\n",
        "\n",
        "        response = requests.get(url_status, headers=headers)\n",
        "\n",
        "        if response.status_code == 200:\n",
        "            print(\"Successful request\")\n",
        "            data = response.json()\n",
        "            return data\n",
        "        else:\n",
        "            print(f\"Error: {response.status_code} - {response.text}\")\n",
        "            return None\n",
        "\n",
        "    def send_agreement_merge(self, library_document_ids, email, merge_defaults):\n",
        "        url_post = \"https://api.na4.adobesign.com/api/rest/v6/agreements\"\n",
        "\n",
        "        headers = {\n",
        "            \"Authorization\": f\"Bearer {self.access_token}\",\n",
        "            \"Content-Type\": \"application/json\"\n",
        "        }\n",
        "\n",
        "        file_infos = [{\"libraryDocumentId\": doc_id} for doc_id in library_document_ids]\n",
        "\n",
        "        merge_field_infos = []\n",
        "        for field, value in merge_defaults.items():\n",
        "            merge_field_infos.append({\"defaultValue\": value, \"fieldName\": field})\n",
        "\n",
        "        json_data = {\n",
        "            \"fileInfos\": file_infos,\n",
        "            \"name\": \"TestAgreement\",\n",
        "            \"participantSetsInfo\": [{\n",
        "                \"memberInfos\": [{\"email\": email}],\n",
        "                \"order\": 1,\n",
        "                \"role\": \"SIGNER\"\n",
        "            }],\n",
        "            \"signatureType\": \"ESIGN\",\n",
        "            \"state\": \"IN_PROCESS\",\n",
        "            \"mergeFieldInfo\": merge_field_infos\n",
        "        }\n",
        "\n",
        "        response = requests.post(url_post, headers=headers, json=json_data)\n",
        "\n",
        "        if response.status_code == 201:\n",
        "            data = response.json()\n",
        "            agreement_id = data.get('id')\n",
        "            return f\"agreementId = {agreement_id}\"\n",
        "        else:\n",
        "            print(f\"Error: {response.status_code} - {response.text}\")\n",
        "            return None\n",
        "\n",
        "\n",
        "    def create_reminder(self, recipientParticipantIds):\n",
        "        url_reminder = f'https://api.na4.adobesign.com:443/api/rest/v6/agreements/{self.agreement_id}/reminders'\n",
        "\n",
        "        headers = {\n",
        "            \"Authorization\": f\"Bearer {self.access_token}\"\n",
        "        }\n",
        "\n",
        "        json_data = {\n",
        "          \"recipientParticipantIds\": [\n",
        "            recipientParticipantIds\n",
        "          ],\n",
        "          \"status\": \"ACTIVE\"\n",
        "        }\n",
        "\n",
        "        response = requests.post(url_reminder, headers=headers,  json=json_data)\n",
        "\n",
        "        if response.status_code == 201:\n",
        "            print(\"Successful request\")\n",
        "            data = response.json()\n",
        "            return data\n",
        "        else:\n",
        "            print(f\"Error: {response.status_code} - {response.text}\")\n",
        "            return None\n",
        "\n",
        "    def retrieves_id(self, agreement_id):\n",
        "\n",
        "        url_document = f'https://api.na4.adobesign.com:443/api/rest/v6/agreements/{agreement_id}/documents'\n",
        "\n",
        "        headers = {\n",
        "            \"Authorization\": f\"Bearer {self.access_token}\"\n",
        "        }\n",
        "\n",
        "        response = requests.get(url_document, headers=headers)\n",
        "\n",
        "        if response.status_code == 200:\n",
        "            data = response.json()\n",
        "            document_id = data['documents'][0]['id']\n",
        "            print(f\"id_document = {document_id}\")\n",
        "        else:\n",
        "            print(f\"Error: {response.status_code} - {response.text}\")\n",
        "\n",
        "    def retrives_file_stream(self, documentId):\n",
        "        url_document_retrives = f'https://api.na4.adobesign.com:443/api/rest/v6/agreements/{agreement_id}/documents/{documentId}'\n",
        "\n",
        "        headers = {\n",
        "            \"Authorization\": f\"Bearer {self.access_token}\"\n",
        "        }\n",
        "\n",
        "        response = requests.get(url_document_retrives, headers=headers)\n",
        "\n",
        "        if response.status_code == 200:\n",
        "            print(\"Successful request\")\n",
        "            with open(\"Document.pdf\", \"wb\") as f:\n",
        "                f.write(response.content)\n",
        "            print(\"Document downloaded successfully\")\n",
        "        else:\n",
        "            print(f\"Error: {response.status_code} - {response.text}\")\n",
        "            return None\n",
        "\n",
        "\n",
        "\n",
        "client_id = \"\"\n",
        "client_secret = \"\"\n",
        "redirect_uri = \"https://oauth.pstmn.io/v1/callback\"\n",
        "scopes = [\n",
        "    \"user_read:account\",\n",
        "    \"user_write:account\",\n",
        "    \"user_login:account\",\n",
        "    \"agreement_read:account\",\n",
        "    \"agreement_write:account\",\n",
        "    \"agreement_send:account\",\n",
        "    \"library_read:account\",\n",
        "    \"library_write:account\"\n",
        "]\n",
        "\n",
        "\n",
        "acrobat_api = AdobeAcrobatAPI(client_id, client_secret, redirect_uri, scopes)\n"
      ],
      "metadata": {
        "id": "6JZReUnIYhSO"
      },
      "execution_count": null,
      "outputs": []
    },
    {
      "cell_type": "markdown",
      "source": [],
      "metadata": {
        "id": "yg8nwSPeyqul"
      }
    },
    {
      "cell_type": "code",
      "source": [
        "code = acrobat_api.get_authorization_code()\n",
        "print(code)"
      ],
      "metadata": {
        "id": "kBxxSSL0Wn3C"
      },
      "execution_count": null,
      "outputs": []
    },
    {
      "cell_type": "code",
      "source": [
        "code = 'CBNCKBAAHBCAABAAwfaac96LDZiGgNHiCtIEK8fdTbyh5ee-'\n",
        "token = acrobat_api.get_access_token(code)\n",
        "print(token)"
      ],
      "metadata": {
        "id": "41etyxI0WsLA"
      },
      "execution_count": null,
      "outputs": []
    },
    {
      "cell_type": "code",
      "source": [
        "library = acrobat_api.retrieve_library_documents()\n",
        "print(library)"
      ],
      "metadata": {
        "id": "m9vGmUUdWunN"
      },
      "execution_count": null,
      "outputs": []
    },
    {
      "cell_type": "code",
      "source": [
        "libraryDocumentId = 'CBJCHBCAABAAdtJ9e85aEBtlWweweXUi_IWbq4j1h0pb'\n",
        "email = 'luis.osmx16@gmail.com'\n",
        "send = acrobat_api.send_agreement(libraryDocumentId, email)\n",
        "print(send)\n"
      ],
      "metadata": {
        "id": "hQXl6PpEWwyy"
      },
      "execution_count": null,
      "outputs": []
    },
    {
      "cell_type": "code",
      "source": [
        "agreement_id = \"CBJCHBCAABAAQCQbcRrHtbW_2PMqeybiX1Y-e4uyLrtd\"\n",
        "\n",
        "status = acrobat_api.status_agreement(agreement_id)\n",
        "print(status)"
      ],
      "metadata": {
        "id": "Ry7M4ktqWz70"
      },
      "execution_count": null,
      "outputs": []
    },
    {
      "cell_type": "code",
      "source": [
        "agreement_id = \"CBJCHBCAABAAQCQbcRrHtbW_2PMqeybiX1Y-e4uyLrtd\"\n",
        "retrivefile = acrobat_api.retrieves_id(agreement_id)\n",
        "print(retrivefile)"
      ],
      "metadata": {
        "id": "iyzKKpC-W2nT"
      },
      "execution_count": null,
      "outputs": []
    },
    {
      "cell_type": "code",
      "source": [
        "id_document = '3AAABLblqZhD_3JmyN4D3_doLqpYz22D3FNNvxiZJP1CNMf7iWWDJnENSEn-2nbtlw3pfHMZrM3gEwkJ4fkhnIBxhHHxFHP6z'\n",
        "document = acrobat_api.retrives_file_stream(id_document)"
      ],
      "metadata": {
        "id": "-nMt9MD3W84R"
      },
      "execution_count": null,
      "outputs": []
    },
    {
      "cell_type": "code",
      "source": [
        "#\n",
        "library_id = 'CBJCHBCAABAA17ctdaY0fbHCkRlB9b_iYP74vKpNrO-x'\n",
        "url_fields_details = f'https://api.na4.adobesign.com:443/api/rest/v6/libraryDocuments/{library_id}/formFields'\n",
        "\n",
        "headers = {\n",
        "    \"Authorization\": f\"Bearer {token}\"\n",
        "}\n",
        "\n",
        "response = requests.get(url_fields_details, headers=headers)\n",
        "\n",
        "if response.status_code == 200:\n",
        "    print(\"Successful request\")\n",
        "    data = response.json()\n",
        "    fields = data.get('fields', [])\n",
        "    field_names = [field.get('name', '') for field in fields]\n",
        "    print(field_names)\n",
        "else:\n",
        "    print(f\"Error: {response.status_code} - {response.text}\")"
      ],
      "metadata": {
        "id": "yLnD8JvTU9Zf"
      },
      "execution_count": null,
      "outputs": []
    },
    {
      "cell_type": "code",
      "source": [
        "{\n",
        "    \"fileInfos\": [{\n",
        "         \"libraryDocumentId\": \"CBJCHBCAABAANGLxuT4zBndvSPEXPK-9F4O6FDwho9xJ\"\n",
        "    }],\n",
        "    \"name\": \"MyTestAgreement\",\n",
        "    \"participantSetsInfo\": [{\n",
        "        \"memberInfos\": [{\n",
        "            \"email\": \"mlopezmejia81@gmail.com\"\n",
        "        }],\n",
        "        \"order\": 1,\n",
        "        \"role\": \"SIGNER\"\n",
        "    }],\n",
        "    \"signatureType\": \"ESIGN\",\n",
        "    \"state\": \"IN_PROCESS\",\n",
        "    \"mergeFieldInfo\": [\n",
        "     {\n",
        "       \"defaultValue\": \"Miguel Angel Lopez\",\n",
        "       \"fieldName\": \"name_1\"\n",
        "     },\n",
        "     {\n",
        "       \"defaultValue\": \"2024-03-14\",\n",
        "       \"fieldName\": \"date_1\"\n",
        "     }\n",
        "     ,\n",
        "     {\n",
        "       \"defaultValue\": \"ACME\",\n",
        "       \"fieldName\": \"borrower_name\"\n",
        "     }\n",
        "     ,\n",
        "     {\n",
        "       \"defaultValue\": \"Houston\",\n",
        "       \"fieldName\": \"project_address\"\n",
        "     }\n",
        "     ,\n",
        "     {\n",
        "       \"defaultValue\": \"5568697849\",\n",
        "       \"fieldName\": \"phone_number\"\n",
        "     }\n",
        "   ]\n",
        "}"
      ],
      "metadata": {
        "id": "FIy1h9p4W97c"
      },
      "execution_count": null,
      "outputs": []
    }
  ]
}